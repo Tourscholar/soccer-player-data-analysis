{
 "cells": [
  {
   "cell_type": "code",
   "execution_count": 185,
   "id": "a940e02e",
   "metadata": {},
   "outputs": [],
   "source": [
    "from selenium import webdriver\n",
    "from selenium.webdriver.chrome.service import Service\n",
    "from pandas.io.html import read_html\n",
    "import time\n",
    "import pandas as pd\n",
    "import numpy as np"
   ]
  },
  {
   "cell_type": "code",
   "execution_count": 186,
   "id": "022fd947",
   "metadata": {},
   "outputs": [],
   "source": [
    "url = \"https://1xbet.whoscored.com/Regions/233/Tournaments/85/Seasons/8055/Stages/19087/PlayerStatistics/USA-Major-League-Soccer-2020\"\n",
    "defensivePath = '//*[@id=\"statistics-table-defensive\"]'\n",
    "offensivePath = '//*[@id=\"statistics-table-offensive\"]'\n",
    "passingPath = '//*[@id=\"statistics-table-passing\"]'"
   ]
  },
  {
   "cell_type": "code",
   "execution_count": 187,
   "id": "f34b4190",
   "metadata": {},
   "outputs": [],
   "source": [
    "defensiveName = \"Defensive\"\n",
    "offensiveName = \"Offensive\"\n",
    "passingName = \"Passing\""
   ]
  },
  {
   "cell_type": "code",
   "execution_count": 188,
   "id": "f1a5596c",
   "metadata": {},
   "outputs": [],
   "source": [
    "sleepTime = 2\n",
    "defensiveDF = ['Player', 'Player.1', 'Apps', 'Mins', 'Tackles', 'Inter', 'Fouls', 'Offsides', 'Clear', 'Drb', 'Blocks', 'OwnG', 'Rating']\n",
    "offensiveDF = ['Player', 'Player.1', 'Apps', 'Mins', 'Goals', 'Assists', 'SpG', 'KeyP', 'Drb', 'Fouled', 'Off', 'Disp', 'UnsTch', 'Rating']\n",
    "passingDF = ['Player', 'Player.1', 'Apps', 'Mins','Assists','KeyP','AvgP','PS%','Crosses','LongB','ThrB', 'Rating']"
   ]
  },
  {
   "cell_type": "code",
   "execution_count": 189,
   "id": "41daea1c",
   "metadata": {},
   "outputs": [],
   "source": [
    "browser = Service(\"./chromedriver.exe\")\n",
    "driver = webdriver.Chrome(service=browser)\n",
    "driver.get(url)"
   ]
  },
  {
   "cell_type": "code",
   "execution_count": 190,
   "id": "6f8afb1c",
   "metadata": {},
   "outputs": [],
   "source": [
    "def getEnsive(name, columsTable, xmlPath):\n",
    "    time.sleep(sleepTime)\n",
    "    defense = driver.find_element_by_link_text(name)\n",
    "    defense.click()\n",
    "    \n",
    "    time.sleep(sleepTime)\n",
    "    all_player = driver.find_element_by_link_text('All players')\n",
    "    all_player.click()\n",
    "    \n",
    "    time.sleep(sleepTime)\n",
    "    page = driver.find_element_by_link_text('last')\n",
    "    total_page = int(page.get_attribute('data-page'))\n",
    "    \n",
    "    df_defensive = pd.DataFrame(columns = columsTable)\n",
    "    \n",
    "    for i in np.arange(total_page)+1 :\n",
    "        time.sleep(sleepTime)\n",
    "        table = driver.find_element_by_xpath(xmlPath)\n",
    "        table_html= table.get_attribute('innerHTML')\n",
    "        df2 = read_html(table_html)[0]\n",
    "        df_defensive = pd.concat([df_defensive, df2], axis=0)\n",
    "        driver.find_element_by_link_text('next').click()\n",
    "        \n",
    "    return df_defensive"
   ]
  },
  {
   "cell_type": "code",
   "execution_count": 191,
   "id": "39480249",
   "metadata": {},
   "outputs": [
    {
     "name": "stderr",
     "output_type": "stream",
     "text": [
      "C:\\Users\\TOURSC~1\\AppData\\Local\\Temp/ipykernel_58224/346424739.py:3: DeprecationWarning: find_element_by_* commands are deprecated. Please use find_element() instead\n",
      "  defense = driver.find_element_by_link_text(name)\n",
      "C:\\Users\\TOURSC~1\\AppData\\Local\\Temp/ipykernel_58224/346424739.py:7: DeprecationWarning: find_element_by_* commands are deprecated. Please use find_element() instead\n",
      "  all_player = driver.find_element_by_link_text('All players')\n",
      "C:\\Users\\TOURSC~1\\AppData\\Local\\Temp/ipykernel_58224/346424739.py:11: DeprecationWarning: find_element_by_* commands are deprecated. Please use find_element() instead\n",
      "  page = driver.find_element_by_link_text('last')\n",
      "C:\\Users\\TOURSC~1\\AppData\\Local\\Temp/ipykernel_58224/346424739.py:18: DeprecationWarning: find_element_by_* commands are deprecated. Please use find_element() instead\n",
      "  table = driver.find_element_by_xpath(xmlPath)\n",
      "C:\\Users\\TOURSC~1\\AppData\\Local\\Temp/ipykernel_58224/346424739.py:22: DeprecationWarning: find_element_by_* commands are deprecated. Please use find_element() instead\n",
      "  driver.find_element_by_link_text('next').click()\n"
     ]
    }
   ],
   "source": [
    "df1 = getEnsive(defensiveName, defensiveDF, defensivePath)\n",
    "df2 = getEnsive(offensiveName, offensiveDF, offensivePath)\n",
    "df3 = getEnsive(passingName, passingDF, passingPath)"
   ]
  },
  {
   "cell_type": "code",
   "execution_count": 192,
   "id": "111f83c6",
   "metadata": {},
   "outputs": [],
   "source": [
    "def toCsv(tableName, path,check):\n",
    "    tableName = tableName.reset_index()\n",
    "    tableName.drop(['index','Player'] , axis=1, inplace=True)\n",
    "    spl = tableName['Player.1'].str.split(',')\n",
    "    \n",
    "    name = []\n",
    "    for i in range(len(spl)):\n",
    "        a = spl[i][0]\n",
    "        name.append(a)\n",
    "    tableName['name']= name\n",
    "    \n",
    "    age = []\n",
    "    for i in range(len(spl)):\n",
    "        a = int(spl[i][1])\n",
    "        age.append(a)\n",
    "    tableName['age'] = age\n",
    "\n",
    "    position1 = []\n",
    "    for i in range(len(spl)):\n",
    "        a = spl[i][2]\n",
    "        position1.append(a)\n",
    "    tableName['position1']=position1\n",
    "\n",
    "    position2 = []\n",
    "    for i in range(len(spl)):\n",
    "        if len(spl[i]) > 3 :\n",
    "            a = spl[i][3]\n",
    "        else :\n",
    "            a = np.nan\n",
    "        position2.append(a)\n",
    "    tableName['position2'] = position2\n",
    "    \n",
    "    tableName.drop('Player.1', axis =1, inplace=True)\n",
    "    \n",
    "    if check == 0:\n",
    "        tableName = tableName.iloc[:,[11,12,13,14,0,1,2,3,4,5,6,7,8,9,10]]\n",
    "        tableName.to_csv(path, sep=',', encoding='utf_8_sig')\n",
    "    else:\n",
    "        tableName = tableName.iloc[:, [10,11, 12, 13, 0, 1, 2, 3, 4, 5, 6, 7, 8, 9]]\n",
    "        tableName.to_csv(path, sep=',', encoding='utf_8_sig')"
   ]
  },
  {
   "cell_type": "code",
   "execution_count": 193,
   "id": "b2b5f550",
   "metadata": {},
   "outputs": [],
   "source": [
    "defensiveCsv = toCsv(df1, \"./dataList2/MajorLeagueSoccer-2020-2021-defensive.csv\",0)\n",
    "offensiveCsv = toCsv(df2, \"./dataList2/MajorLeagueSoccer-2020-2021-offensive.csv\",0)\n",
    "passingCsv = toCsv(df3, \"./dataList2/MajorLeagueSoccer-2020-2021-passing.csv\",1)"
   ]
  },
  {
   "cell_type": "code",
   "execution_count": null,
   "id": "1015de11",
   "metadata": {},
   "outputs": [],
   "source": []
  },
  {
   "cell_type": "code",
   "execution_count": null,
   "id": "66a6d0bd",
   "metadata": {},
   "outputs": [],
   "source": []
  }
 ],
 "metadata": {
  "kernelspec": {
   "display_name": "Python 3 (ipykernel)",
   "language": "python",
   "name": "python3"
  },
  "language_info": {
   "codemirror_mode": {
    "name": "ipython",
    "version": 3
   },
   "file_extension": ".py",
   "mimetype": "text/x-python",
   "name": "python",
   "nbconvert_exporter": "python",
   "pygments_lexer": "ipython3",
   "version": "3.8.10"
  }
 },
 "nbformat": 4,
 "nbformat_minor": 5
}
